{
  "nbformat": 4,
  "nbformat_minor": 0,
  "metadata": {
    "colab": {
      "provenance": [],
      "collapsed_sections": [
        "GYckTppCDfvB",
        "JnnSzX3kD30T",
        "RE196hL2EC_y",
        "9WnT8UKCFtP-"
      ]
    },
    "kernelspec": {
      "name": "python3",
      "display_name": "Python 3"
    },
    "language_info": {
      "name": "python"
    }
  },
  "cells": [
    {
      "cell_type": "markdown",
      "source": [
        "#📌 Importar dados"
      ],
      "metadata": {
        "id": "VEhusiBeDRYk"
      }
    },
    {
      "cell_type": "code",
      "execution_count": 376,
      "metadata": {
        "id": "eNmNvS4FDQLP"
      },
      "outputs": [],
      "source": [
        "import pandas as pd\n",
        "import numpy as np\n",
        "import json\n",
        "import matplotlib.pyplot as plt\n",
        "import warnings\n",
        "import seaborn as sns\n",
        "import sklearn.metrics as metrics\n",
        "import sklearn.preprocessing as preprocessing\n",
        "import sklearn.model_selection as model_selection\n",
        "import sklearn.tree as tree\n",
        "import sklearn.metrics as metrics\n",
        "import sklearn.pipeline as pipeline\n",
        "import sklearn.neighbors as neighbors\n",
        "import imblearn.under_sampling as under\n",
        "import imblearn.under_sampling as under\n",
        "import imblearn.pipeline as imbpipeline\n",
        "import imblearn.over_sampling as over\n",
        "from sklearn.neighbors import KNeighborsClassifier\n",
        "from imblearn.over_sampling import SMOTE\n",
        "from sklearn.model_selection import GridSearchCV\n",
        "from sklearn.impute import SimpleImputer\n",
        "from sklearn.preprocessing import StandardScaler\n"
      ]
    },
    {
      "cell_type": "markdown",
      "source": [
        "#📌 Conhecendo dados"
      ],
      "metadata": {
        "id": "GYckTppCDfvB"
      }
    },
    {
      "cell_type": "code",
      "source": [
        "#Lendo dados\n",
        "\n",
        "dados = pd.read_json('/content/dados.json', lines=True)\n",
        "dados.head(5)"
      ],
      "metadata": {
        "id": "erYq-KwQFssC",
        "colab": {
          "base_uri": "https://localhost:8080/",
          "height": 377
        },
        "outputId": "67608d81-ded6-4a17-fa46-1ccd6a104901"
      },
      "execution_count": 377,
      "outputs": [
        {
          "output_type": "execute_result",
          "data": {
            "text/plain": [
              "   ID Cliente Evasao  Genero  idoso Parceiro Dependentes  Meses como cliente  \\\n",
              "0  0002-ORFBO     No  Female      0      Yes         Yes                   9   \n",
              "1  0003-MKNFE     No    Male      0       No          No                   9   \n",
              "2  0004-TLHLJ    Yes    Male      0       No          No                   4   \n",
              "3  0011-IGKFF    Yes    Male      1      Yes          No                  13   \n",
              "4  0013-EXCHZ    Yes  Female      1      Yes          No                   3   \n",
              "\n",
              "  Telefone fixo Múltiplas linhas Serviço de internet  ...        Contrato  \\\n",
              "0           Yes               No                 DSL  ...        One year   \n",
              "1           Yes              Yes                 DSL  ...  Month-to-month   \n",
              "2           Yes               No         Fiber optic  ...  Month-to-month   \n",
              "3           Yes               No         Fiber optic  ...  Month-to-month   \n",
              "4           Yes               No         Fiber optic  ...  Month-to-month   \n",
              "\n",
              "  Fatura online Metodo de pagamento Fatura mensal Fatura Total  \\\n",
              "0           Yes        Mailed check          65.6       593.30   \n",
              "1            No        Mailed check          59.9       542.40   \n",
              "2           Yes    Electronic check          73.9       280.85   \n",
              "3           Yes    Electronic check          98.0      1237.85   \n",
              "4           Yes        Mailed check          83.9       267.40   \n",
              "\n",
              "  Dias como cliente Valor Diario Evasao_num Faixa_tempo_cliente  faixa_gasto  \n",
              "0               270         2.20        0.0                0-12     501-1000  \n",
              "1               270         2.01        0.0                0-12     501-1000  \n",
              "2               120         2.34        1.0                0-12        0-500  \n",
              "3               390         3.17        1.0               13-24    1001-1500  \n",
              "4                90         2.97        1.0                0-12        0-500  \n",
              "\n",
              "[5 rows x 26 columns]"
            ],
            "text/html": [
              "\n",
              "  <div id=\"df-30f09d4d-058e-4111-aa3a-23f442894078\" class=\"colab-df-container\">\n",
              "    <div>\n",
              "<style scoped>\n",
              "    .dataframe tbody tr th:only-of-type {\n",
              "        vertical-align: middle;\n",
              "    }\n",
              "\n",
              "    .dataframe tbody tr th {\n",
              "        vertical-align: top;\n",
              "    }\n",
              "\n",
              "    .dataframe thead th {\n",
              "        text-align: right;\n",
              "    }\n",
              "</style>\n",
              "<table border=\"1\" class=\"dataframe\">\n",
              "  <thead>\n",
              "    <tr style=\"text-align: right;\">\n",
              "      <th></th>\n",
              "      <th>ID Cliente</th>\n",
              "      <th>Evasao</th>\n",
              "      <th>Genero</th>\n",
              "      <th>idoso</th>\n",
              "      <th>Parceiro</th>\n",
              "      <th>Dependentes</th>\n",
              "      <th>Meses como cliente</th>\n",
              "      <th>Telefone fixo</th>\n",
              "      <th>Múltiplas linhas</th>\n",
              "      <th>Serviço de internet</th>\n",
              "      <th>...</th>\n",
              "      <th>Contrato</th>\n",
              "      <th>Fatura online</th>\n",
              "      <th>Metodo de pagamento</th>\n",
              "      <th>Fatura mensal</th>\n",
              "      <th>Fatura Total</th>\n",
              "      <th>Dias como cliente</th>\n",
              "      <th>Valor Diario</th>\n",
              "      <th>Evasao_num</th>\n",
              "      <th>Faixa_tempo_cliente</th>\n",
              "      <th>faixa_gasto</th>\n",
              "    </tr>\n",
              "  </thead>\n",
              "  <tbody>\n",
              "    <tr>\n",
              "      <th>0</th>\n",
              "      <td>0002-ORFBO</td>\n",
              "      <td>No</td>\n",
              "      <td>Female</td>\n",
              "      <td>0</td>\n",
              "      <td>Yes</td>\n",
              "      <td>Yes</td>\n",
              "      <td>9</td>\n",
              "      <td>Yes</td>\n",
              "      <td>No</td>\n",
              "      <td>DSL</td>\n",
              "      <td>...</td>\n",
              "      <td>One year</td>\n",
              "      <td>Yes</td>\n",
              "      <td>Mailed check</td>\n",
              "      <td>65.6</td>\n",
              "      <td>593.30</td>\n",
              "      <td>270</td>\n",
              "      <td>2.20</td>\n",
              "      <td>0.0</td>\n",
              "      <td>0-12</td>\n",
              "      <td>501-1000</td>\n",
              "    </tr>\n",
              "    <tr>\n",
              "      <th>1</th>\n",
              "      <td>0003-MKNFE</td>\n",
              "      <td>No</td>\n",
              "      <td>Male</td>\n",
              "      <td>0</td>\n",
              "      <td>No</td>\n",
              "      <td>No</td>\n",
              "      <td>9</td>\n",
              "      <td>Yes</td>\n",
              "      <td>Yes</td>\n",
              "      <td>DSL</td>\n",
              "      <td>...</td>\n",
              "      <td>Month-to-month</td>\n",
              "      <td>No</td>\n",
              "      <td>Mailed check</td>\n",
              "      <td>59.9</td>\n",
              "      <td>542.40</td>\n",
              "      <td>270</td>\n",
              "      <td>2.01</td>\n",
              "      <td>0.0</td>\n",
              "      <td>0-12</td>\n",
              "      <td>501-1000</td>\n",
              "    </tr>\n",
              "    <tr>\n",
              "      <th>2</th>\n",
              "      <td>0004-TLHLJ</td>\n",
              "      <td>Yes</td>\n",
              "      <td>Male</td>\n",
              "      <td>0</td>\n",
              "      <td>No</td>\n",
              "      <td>No</td>\n",
              "      <td>4</td>\n",
              "      <td>Yes</td>\n",
              "      <td>No</td>\n",
              "      <td>Fiber optic</td>\n",
              "      <td>...</td>\n",
              "      <td>Month-to-month</td>\n",
              "      <td>Yes</td>\n",
              "      <td>Electronic check</td>\n",
              "      <td>73.9</td>\n",
              "      <td>280.85</td>\n",
              "      <td>120</td>\n",
              "      <td>2.34</td>\n",
              "      <td>1.0</td>\n",
              "      <td>0-12</td>\n",
              "      <td>0-500</td>\n",
              "    </tr>\n",
              "    <tr>\n",
              "      <th>3</th>\n",
              "      <td>0011-IGKFF</td>\n",
              "      <td>Yes</td>\n",
              "      <td>Male</td>\n",
              "      <td>1</td>\n",
              "      <td>Yes</td>\n",
              "      <td>No</td>\n",
              "      <td>13</td>\n",
              "      <td>Yes</td>\n",
              "      <td>No</td>\n",
              "      <td>Fiber optic</td>\n",
              "      <td>...</td>\n",
              "      <td>Month-to-month</td>\n",
              "      <td>Yes</td>\n",
              "      <td>Electronic check</td>\n",
              "      <td>98.0</td>\n",
              "      <td>1237.85</td>\n",
              "      <td>390</td>\n",
              "      <td>3.17</td>\n",
              "      <td>1.0</td>\n",
              "      <td>13-24</td>\n",
              "      <td>1001-1500</td>\n",
              "    </tr>\n",
              "    <tr>\n",
              "      <th>4</th>\n",
              "      <td>0013-EXCHZ</td>\n",
              "      <td>Yes</td>\n",
              "      <td>Female</td>\n",
              "      <td>1</td>\n",
              "      <td>Yes</td>\n",
              "      <td>No</td>\n",
              "      <td>3</td>\n",
              "      <td>Yes</td>\n",
              "      <td>No</td>\n",
              "      <td>Fiber optic</td>\n",
              "      <td>...</td>\n",
              "      <td>Month-to-month</td>\n",
              "      <td>Yes</td>\n",
              "      <td>Mailed check</td>\n",
              "      <td>83.9</td>\n",
              "      <td>267.40</td>\n",
              "      <td>90</td>\n",
              "      <td>2.97</td>\n",
              "      <td>1.0</td>\n",
              "      <td>0-12</td>\n",
              "      <td>0-500</td>\n",
              "    </tr>\n",
              "  </tbody>\n",
              "</table>\n",
              "<p>5 rows × 26 columns</p>\n",
              "</div>\n",
              "    <div class=\"colab-df-buttons\">\n",
              "\n",
              "  <div class=\"colab-df-container\">\n",
              "    <button class=\"colab-df-convert\" onclick=\"convertToInteractive('df-30f09d4d-058e-4111-aa3a-23f442894078')\"\n",
              "            title=\"Convert this dataframe to an interactive table.\"\n",
              "            style=\"display:none;\">\n",
              "\n",
              "  <svg xmlns=\"http://www.w3.org/2000/svg\" height=\"24px\" viewBox=\"0 -960 960 960\">\n",
              "    <path d=\"M120-120v-720h720v720H120Zm60-500h600v-160H180v160Zm220 220h160v-160H400v160Zm0 220h160v-160H400v160ZM180-400h160v-160H180v160Zm440 0h160v-160H620v160ZM180-180h160v-160H180v160Zm440 0h160v-160H620v160Z\"/>\n",
              "  </svg>\n",
              "    </button>\n",
              "\n",
              "  <style>\n",
              "    .colab-df-container {\n",
              "      display:flex;\n",
              "      gap: 12px;\n",
              "    }\n",
              "\n",
              "    .colab-df-convert {\n",
              "      background-color: #E8F0FE;\n",
              "      border: none;\n",
              "      border-radius: 50%;\n",
              "      cursor: pointer;\n",
              "      display: none;\n",
              "      fill: #1967D2;\n",
              "      height: 32px;\n",
              "      padding: 0 0 0 0;\n",
              "      width: 32px;\n",
              "    }\n",
              "\n",
              "    .colab-df-convert:hover {\n",
              "      background-color: #E2EBFA;\n",
              "      box-shadow: 0px 1px 2px rgba(60, 64, 67, 0.3), 0px 1px 3px 1px rgba(60, 64, 67, 0.15);\n",
              "      fill: #174EA6;\n",
              "    }\n",
              "\n",
              "    .colab-df-buttons div {\n",
              "      margin-bottom: 4px;\n",
              "    }\n",
              "\n",
              "    [theme=dark] .colab-df-convert {\n",
              "      background-color: #3B4455;\n",
              "      fill: #D2E3FC;\n",
              "    }\n",
              "\n",
              "    [theme=dark] .colab-df-convert:hover {\n",
              "      background-color: #434B5C;\n",
              "      box-shadow: 0px 1px 3px 1px rgba(0, 0, 0, 0.15);\n",
              "      filter: drop-shadow(0px 1px 2px rgba(0, 0, 0, 0.3));\n",
              "      fill: #FFFFFF;\n",
              "    }\n",
              "  </style>\n",
              "\n",
              "    <script>\n",
              "      const buttonEl =\n",
              "        document.querySelector('#df-30f09d4d-058e-4111-aa3a-23f442894078 button.colab-df-convert');\n",
              "      buttonEl.style.display =\n",
              "        google.colab.kernel.accessAllowed ? 'block' : 'none';\n",
              "\n",
              "      async function convertToInteractive(key) {\n",
              "        const element = document.querySelector('#df-30f09d4d-058e-4111-aa3a-23f442894078');\n",
              "        const dataTable =\n",
              "          await google.colab.kernel.invokeFunction('convertToInteractive',\n",
              "                                                    [key], {});\n",
              "        if (!dataTable) return;\n",
              "\n",
              "        const docLinkHtml = 'Like what you see? Visit the ' +\n",
              "          '<a target=\"_blank\" href=https://colab.research.google.com/notebooks/data_table.ipynb>data table notebook</a>'\n",
              "          + ' to learn more about interactive tables.';\n",
              "        element.innerHTML = '';\n",
              "        dataTable['output_type'] = 'display_data';\n",
              "        await google.colab.output.renderOutput(dataTable, element);\n",
              "        const docLink = document.createElement('div');\n",
              "        docLink.innerHTML = docLinkHtml;\n",
              "        element.appendChild(docLink);\n",
              "      }\n",
              "    </script>\n",
              "  </div>\n",
              "\n",
              "\n",
              "    <div id=\"df-47a81806-9c5f-4fc1-93e6-cf4cf77aff48\">\n",
              "      <button class=\"colab-df-quickchart\" onclick=\"quickchart('df-47a81806-9c5f-4fc1-93e6-cf4cf77aff48')\"\n",
              "                title=\"Suggest charts\"\n",
              "                style=\"display:none;\">\n",
              "\n",
              "<svg xmlns=\"http://www.w3.org/2000/svg\" height=\"24px\"viewBox=\"0 0 24 24\"\n",
              "     width=\"24px\">\n",
              "    <g>\n",
              "        <path d=\"M19 3H5c-1.1 0-2 .9-2 2v14c0 1.1.9 2 2 2h14c1.1 0 2-.9 2-2V5c0-1.1-.9-2-2-2zM9 17H7v-7h2v7zm4 0h-2V7h2v10zm4 0h-2v-4h2v4z\"/>\n",
              "    </g>\n",
              "</svg>\n",
              "      </button>\n",
              "\n",
              "<style>\n",
              "  .colab-df-quickchart {\n",
              "      --bg-color: #E8F0FE;\n",
              "      --fill-color: #1967D2;\n",
              "      --hover-bg-color: #E2EBFA;\n",
              "      --hover-fill-color: #174EA6;\n",
              "      --disabled-fill-color: #AAA;\n",
              "      --disabled-bg-color: #DDD;\n",
              "  }\n",
              "\n",
              "  [theme=dark] .colab-df-quickchart {\n",
              "      --bg-color: #3B4455;\n",
              "      --fill-color: #D2E3FC;\n",
              "      --hover-bg-color: #434B5C;\n",
              "      --hover-fill-color: #FFFFFF;\n",
              "      --disabled-bg-color: #3B4455;\n",
              "      --disabled-fill-color: #666;\n",
              "  }\n",
              "\n",
              "  .colab-df-quickchart {\n",
              "    background-color: var(--bg-color);\n",
              "    border: none;\n",
              "    border-radius: 50%;\n",
              "    cursor: pointer;\n",
              "    display: none;\n",
              "    fill: var(--fill-color);\n",
              "    height: 32px;\n",
              "    padding: 0;\n",
              "    width: 32px;\n",
              "  }\n",
              "\n",
              "  .colab-df-quickchart:hover {\n",
              "    background-color: var(--hover-bg-color);\n",
              "    box-shadow: 0 1px 2px rgba(60, 64, 67, 0.3), 0 1px 3px 1px rgba(60, 64, 67, 0.15);\n",
              "    fill: var(--button-hover-fill-color);\n",
              "  }\n",
              "\n",
              "  .colab-df-quickchart-complete:disabled,\n",
              "  .colab-df-quickchart-complete:disabled:hover {\n",
              "    background-color: var(--disabled-bg-color);\n",
              "    fill: var(--disabled-fill-color);\n",
              "    box-shadow: none;\n",
              "  }\n",
              "\n",
              "  .colab-df-spinner {\n",
              "    border: 2px solid var(--fill-color);\n",
              "    border-color: transparent;\n",
              "    border-bottom-color: var(--fill-color);\n",
              "    animation:\n",
              "      spin 1s steps(1) infinite;\n",
              "  }\n",
              "\n",
              "  @keyframes spin {\n",
              "    0% {\n",
              "      border-color: transparent;\n",
              "      border-bottom-color: var(--fill-color);\n",
              "      border-left-color: var(--fill-color);\n",
              "    }\n",
              "    20% {\n",
              "      border-color: transparent;\n",
              "      border-left-color: var(--fill-color);\n",
              "      border-top-color: var(--fill-color);\n",
              "    }\n",
              "    30% {\n",
              "      border-color: transparent;\n",
              "      border-left-color: var(--fill-color);\n",
              "      border-top-color: var(--fill-color);\n",
              "      border-right-color: var(--fill-color);\n",
              "    }\n",
              "    40% {\n",
              "      border-color: transparent;\n",
              "      border-right-color: var(--fill-color);\n",
              "      border-top-color: var(--fill-color);\n",
              "    }\n",
              "    60% {\n",
              "      border-color: transparent;\n",
              "      border-right-color: var(--fill-color);\n",
              "    }\n",
              "    80% {\n",
              "      border-color: transparent;\n",
              "      border-right-color: var(--fill-color);\n",
              "      border-bottom-color: var(--fill-color);\n",
              "    }\n",
              "    90% {\n",
              "      border-color: transparent;\n",
              "      border-bottom-color: var(--fill-color);\n",
              "    }\n",
              "  }\n",
              "</style>\n",
              "\n",
              "      <script>\n",
              "        async function quickchart(key) {\n",
              "          const quickchartButtonEl =\n",
              "            document.querySelector('#' + key + ' button');\n",
              "          quickchartButtonEl.disabled = true;  // To prevent multiple clicks.\n",
              "          quickchartButtonEl.classList.add('colab-df-spinner');\n",
              "          try {\n",
              "            const charts = await google.colab.kernel.invokeFunction(\n",
              "                'suggestCharts', [key], {});\n",
              "          } catch (error) {\n",
              "            console.error('Error during call to suggestCharts:', error);\n",
              "          }\n",
              "          quickchartButtonEl.classList.remove('colab-df-spinner');\n",
              "          quickchartButtonEl.classList.add('colab-df-quickchart-complete');\n",
              "        }\n",
              "        (() => {\n",
              "          let quickchartButtonEl =\n",
              "            document.querySelector('#df-47a81806-9c5f-4fc1-93e6-cf4cf77aff48 button');\n",
              "          quickchartButtonEl.style.display =\n",
              "            google.colab.kernel.accessAllowed ? 'block' : 'none';\n",
              "        })();\n",
              "      </script>\n",
              "    </div>\n",
              "\n",
              "    </div>\n",
              "  </div>\n"
            ],
            "application/vnd.google.colaboratory.intrinsic+json": {
              "type": "dataframe",
              "variable_name": "dados"
            }
          },
          "metadata": {},
          "execution_count": 377
        }
      ]
    },
    {
      "cell_type": "code",
      "source": [
        "#Conhecendo colunas\n",
        "\n",
        "dados.columns"
      ],
      "metadata": {
        "id": "9eIuZ_8rF9NL",
        "colab": {
          "base_uri": "https://localhost:8080/"
        },
        "outputId": "e025b9d2-2b4c-4c4c-8bd9-0dfa740b165a"
      },
      "execution_count": 378,
      "outputs": [
        {
          "output_type": "execute_result",
          "data": {
            "text/plain": [
              "Index(['ID Cliente', 'Evasao', 'Genero', 'idoso', 'Parceiro', 'Dependentes',\n",
              "       'Meses como cliente', 'Telefone fixo', 'Múltiplas linhas',\n",
              "       'Serviço de internet', 'Seguranca online', 'Backup',\n",
              "       'Protecao de dispositivo', 'Suporte tecnico', 'Streaming TV',\n",
              "       'Streaming filmes', 'Contrato', 'Fatura online', 'Metodo de pagamento',\n",
              "       'Fatura mensal', 'Fatura Total', 'Dias como cliente', 'Valor Diario',\n",
              "       'Evasao_num', 'Faixa_tempo_cliente', 'faixa_gasto'],\n",
              "      dtype='object')"
            ]
          },
          "metadata": {},
          "execution_count": 378
        }
      ]
    },
    {
      "cell_type": "code",
      "source": [
        "#Limpando o DataFrame\n",
        "\n",
        "dados = dados.drop(columns=['ID Cliente','Evasao_num',\n",
        " 'Dias como cliente', 'Valor Diario'])"
      ],
      "metadata": {
        "id": "E5T9l_2fFwhC"
      },
      "execution_count": 379,
      "outputs": []
    },
    {
      "cell_type": "code",
      "source": [
        "dados['Evasao'].value_counts()"
      ],
      "metadata": {
        "id": "AMLwz5D3uP8W",
        "colab": {
          "base_uri": "https://localhost:8080/",
          "height": 0
        },
        "outputId": "5b5f524f-bf94-4b3b-d30d-fad9460fdcc8"
      },
      "execution_count": 380,
      "outputs": [
        {
          "output_type": "execute_result",
          "data": {
            "text/plain": [
              "Evasao\n",
              "No     5174\n",
              "Yes    1869\n",
              "        224\n",
              "Name: count, dtype: int64"
            ],
            "text/html": [
              "<div>\n",
              "<style scoped>\n",
              "    .dataframe tbody tr th:only-of-type {\n",
              "        vertical-align: middle;\n",
              "    }\n",
              "\n",
              "    .dataframe tbody tr th {\n",
              "        vertical-align: top;\n",
              "    }\n",
              "\n",
              "    .dataframe thead th {\n",
              "        text-align: right;\n",
              "    }\n",
              "</style>\n",
              "<table border=\"1\" class=\"dataframe\">\n",
              "  <thead>\n",
              "    <tr style=\"text-align: right;\">\n",
              "      <th></th>\n",
              "      <th>count</th>\n",
              "    </tr>\n",
              "    <tr>\n",
              "      <th>Evasao</th>\n",
              "      <th></th>\n",
              "    </tr>\n",
              "  </thead>\n",
              "  <tbody>\n",
              "    <tr>\n",
              "      <th>No</th>\n",
              "      <td>5174</td>\n",
              "    </tr>\n",
              "    <tr>\n",
              "      <th>Yes</th>\n",
              "      <td>1869</td>\n",
              "    </tr>\n",
              "    <tr>\n",
              "      <th></th>\n",
              "      <td>224</td>\n",
              "    </tr>\n",
              "  </tbody>\n",
              "</table>\n",
              "</div><br><label><b>dtype:</b> int64</label>"
            ]
          },
          "metadata": {},
          "execution_count": 380
        }
      ]
    },
    {
      "cell_type": "code",
      "source": [
        "#Copiar DataFrame original\n",
        "\n",
        "dados = dados.copy()"
      ],
      "metadata": {
        "id": "eTp8zBdrF52d"
      },
      "execution_count": 381,
      "outputs": []
    },
    {
      "cell_type": "code",
      "source": [
        "#Tratar casos específicos (\"No internet service\" → \"No\")\n",
        "\n",
        "cols_to_fix = [\n",
        "    'Serviço de internet', 'Seguranca online', 'Backup',\n",
        "    'Protecao de dispositivo', 'Suporte tecnico', 'Streaming TV',\n",
        "    'Streaming filmes','Múltiplas linhas'\n",
        "]\n",
        "for col in cols_to_fix:\n",
        "    dados[col] = dados[col].replace('No internet service', 'No')"
      ],
      "metadata": {
        "id": "OOkbVspbtdkL"
      },
      "execution_count": 382,
      "outputs": []
    },
    {
      "cell_type": "code",
      "source": [
        "# Mapear colunas categóricas em dummies (numéricas)\n",
        "cols_to_map = ['Genero', 'Parceiro', 'Dependentes']\n",
        "for col in cols_to_map:\n",
        "    dados[col] = dados[col].replace({'Yes': True, 'No': False})"
      ],
      "metadata": {
        "id": "WG2BGfV_MR_Q",
        "colab": {
          "base_uri": "https://localhost:8080/"
        },
        "outputId": "25c102fd-d7f9-42b2-a832-590ff01992c9"
      },
      "execution_count": 383,
      "outputs": [
        {
          "output_type": "stream",
          "name": "stderr",
          "text": [
            "/tmp/ipython-input-2334547849.py:4: FutureWarning: Downcasting behavior in `replace` is deprecated and will be removed in a future version. To retain the old behavior, explicitly call `result.infer_objects(copy=False)`. To opt-in to the future behavior, set `pd.set_option('future.no_silent_downcasting', True)`\n",
            "  dados[col] = dados[col].replace({'Yes': True, 'No': False})\n"
          ]
        }
      ]
    },
    {
      "cell_type": "code",
      "source": [
        "# Transformar colunas categóricas em variáveis dummy\n",
        "dados= pd.get_dummies(dados, columns=['Contrato', 'Metodo de pagamento'])"
      ],
      "metadata": {
        "id": "wf2ZYpLRObK2"
      },
      "execution_count": 384,
      "outputs": []
    },
    {
      "cell_type": "code",
      "source": [
        "dados['Evasao'].value_counts()"
      ],
      "metadata": {
        "id": "W3-nTo5e15z8",
        "colab": {
          "base_uri": "https://localhost:8080/",
          "height": 0
        },
        "outputId": "aa6892ed-c46f-4711-df28-7a29130744a9"
      },
      "execution_count": 385,
      "outputs": [
        {
          "output_type": "execute_result",
          "data": {
            "text/plain": [
              "Evasao\n",
              "No     5174\n",
              "Yes    1869\n",
              "        224\n",
              "Name: count, dtype: int64"
            ],
            "text/html": [
              "<div>\n",
              "<style scoped>\n",
              "    .dataframe tbody tr th:only-of-type {\n",
              "        vertical-align: middle;\n",
              "    }\n",
              "\n",
              "    .dataframe tbody tr th {\n",
              "        vertical-align: top;\n",
              "    }\n",
              "\n",
              "    .dataframe thead th {\n",
              "        text-align: right;\n",
              "    }\n",
              "</style>\n",
              "<table border=\"1\" class=\"dataframe\">\n",
              "  <thead>\n",
              "    <tr style=\"text-align: right;\">\n",
              "      <th></th>\n",
              "      <th>count</th>\n",
              "    </tr>\n",
              "    <tr>\n",
              "      <th>Evasao</th>\n",
              "      <th></th>\n",
              "    </tr>\n",
              "  </thead>\n",
              "  <tbody>\n",
              "    <tr>\n",
              "      <th>No</th>\n",
              "      <td>5174</td>\n",
              "    </tr>\n",
              "    <tr>\n",
              "      <th>Yes</th>\n",
              "      <td>1869</td>\n",
              "    </tr>\n",
              "    <tr>\n",
              "      <th></th>\n",
              "      <td>224</td>\n",
              "    </tr>\n",
              "  </tbody>\n",
              "</table>\n",
              "</div><br><label><b>dtype:</b> int64</label>"
            ]
          },
          "metadata": {},
          "execution_count": 385
        }
      ]
    },
    {
      "cell_type": "code",
      "source": [
        "# Mantém apenas linhas onde 'Evasao' não é vazio\n",
        "dados = dados[dados['Evasao'] != '']"
      ],
      "metadata": {
        "id": "pSYrDucuK3N1"
      },
      "execution_count": 386,
      "outputs": []
    },
    {
      "cell_type": "code",
      "source": [
        "# 'Yes' → 1 (inadimplente / evadiu), 'No' → 0 (adimplente / não evadiu)\n",
        "\n",
        "dados['Evasao'] = dados['Evasao'].replace({'No': 0, 'Yes': 1})"
      ],
      "metadata": {
        "id": "xkspUdhPQHe9",
        "colab": {
          "base_uri": "https://localhost:8080/"
        },
        "outputId": "466f9f8e-da59-45a9-a9d6-348744fc999f"
      },
      "execution_count": 387,
      "outputs": [
        {
          "output_type": "stream",
          "name": "stderr",
          "text": [
            "/tmp/ipython-input-591267513.py:3: FutureWarning: Downcasting behavior in `replace` is deprecated and will be removed in a future version. To retain the old behavior, explicitly call `result.infer_objects(copy=False)`. To opt-in to the future behavior, set `pd.set_option('future.no_silent_downcasting', True)`\n",
            "  dados['Evasao'] = dados['Evasao'].replace({'No': 0, 'Yes': 1})\n"
          ]
        }
      ]
    },
    {
      "cell_type": "code",
      "source": [
        "dados[['Genero', 'Parceiro', 'Dependentes']] = dados[['Genero', 'Parceiro', 'Dependentes']].replace({\n",
        "    'female': 0, 'male': 1,\n",
        "    'No': 0, 'Yes': 1,\n",
        "    'Não': 0, 'Sim': 1\n",
        "})"
      ],
      "metadata": {
        "id": "zS0T6rV5W_ex"
      },
      "execution_count": 388,
      "outputs": []
    },
    {
      "cell_type": "code",
      "source": [
        "dados['Faixa_tempo_cliente'].value_counts()"
      ],
      "metadata": {
        "colab": {
          "base_uri": "https://localhost:8080/",
          "height": 303
        },
        "id": "zmqHOsv7mT7u",
        "outputId": "601a815f-e1d3-4561-b290-26a4e4ac4bbd"
      },
      "execution_count": 389,
      "outputs": [
        {
          "output_type": "execute_result",
          "data": {
            "text/plain": [
              "Faixa_tempo_cliente\n",
              "0-12     2069\n",
              "61-72    1121\n",
              "13-24    1047\n",
              "25-36     876\n",
              "49-60     820\n",
              "37-48     748\n",
              "Name: count, dtype: int64"
            ],
            "text/html": [
              "<div>\n",
              "<style scoped>\n",
              "    .dataframe tbody tr th:only-of-type {\n",
              "        vertical-align: middle;\n",
              "    }\n",
              "\n",
              "    .dataframe tbody tr th {\n",
              "        vertical-align: top;\n",
              "    }\n",
              "\n",
              "    .dataframe thead th {\n",
              "        text-align: right;\n",
              "    }\n",
              "</style>\n",
              "<table border=\"1\" class=\"dataframe\">\n",
              "  <thead>\n",
              "    <tr style=\"text-align: right;\">\n",
              "      <th></th>\n",
              "      <th>count</th>\n",
              "    </tr>\n",
              "    <tr>\n",
              "      <th>Faixa_tempo_cliente</th>\n",
              "      <th></th>\n",
              "    </tr>\n",
              "  </thead>\n",
              "  <tbody>\n",
              "    <tr>\n",
              "      <th>0-12</th>\n",
              "      <td>2069</td>\n",
              "    </tr>\n",
              "    <tr>\n",
              "      <th>61-72</th>\n",
              "      <td>1121</td>\n",
              "    </tr>\n",
              "    <tr>\n",
              "      <th>13-24</th>\n",
              "      <td>1047</td>\n",
              "    </tr>\n",
              "    <tr>\n",
              "      <th>25-36</th>\n",
              "      <td>876</td>\n",
              "    </tr>\n",
              "    <tr>\n",
              "      <th>49-60</th>\n",
              "      <td>820</td>\n",
              "    </tr>\n",
              "    <tr>\n",
              "      <th>37-48</th>\n",
              "      <td>748</td>\n",
              "    </tr>\n",
              "  </tbody>\n",
              "</table>\n",
              "</div><br><label><b>dtype:</b> int64</label>"
            ]
          },
          "metadata": {},
          "execution_count": 389
        }
      ]
    },
    {
      "cell_type": "code",
      "source": [
        "# # Exemplo: \"13-24\" → 18.5\n",
        "# dados['Faixa_tempo_cliente_float'] = (\n",
        "#     dados['Faixa_tempo_cliente']\n",
        "#     .astype(str)\n",
        "#     .str.extract(r'(\\d+)-(\\d+)')        # captura início e fim\n",
        "#     .astype(float)                      # converte para float\n",
        "#     .mean(axis=1)                       # pega a média\n",
        "# )\n"
      ],
      "metadata": {
        "id": "qwEPV_9rl7It"
      },
      "execution_count": 390,
      "outputs": []
    },
    {
      "cell_type": "markdown",
      "source": [
        "#📌Análise de Direcionda"
      ],
      "metadata": {
        "id": "l9SzVQ9fLMID"
      }
    },
    {
      "cell_type": "markdown",
      "source": [
        "##📊 Evasão por tempo de contrato"
      ],
      "metadata": {
        "id": "_sREbF6_MEki"
      }
    },
    {
      "cell_type": "code",
      "source": [
        "# Criar um mapeamento faixa -> média\n",
        "mapa_faixa = {\n",
        "    '0-12': 6.0,\n",
        "    '13-24': 18.5,\n",
        "    '25-36': 30.5,\n",
        "    '37-48': 42.5,\n",
        "    '49-60': 54.5,\n",
        "    '61-72': 66.5\n",
        "}\n",
        "\n",
        "# Aplicar ao DataFrame\n",
        "dados['Faixa_tempo_cliente'] = dados['Faixa_tempo_cliente'].map(mapa_faixa)\n"
      ],
      "metadata": {
        "id": "UDJENzJ9nDA7"
      },
      "execution_count": 391,
      "outputs": []
    },
    {
      "cell_type": "code",
      "source": [
        "plt.figure(figsize=(10,6))\n",
        "sns.boxplot(\n",
        "    data=dados,\n",
        "    x='Faixa_tempo_cliente',\n",
        "    y='Fatura Total',\n",
        "    palette='crest'\n",
        ")\n",
        "\n",
        "plt.title('Boxplot - Fatura Total por Tempo de Cliente', fontsize=14)\n",
        "plt.xlabel('Tempo de Cliente (meses, valor médio da faixa)')\n",
        "plt.ylabel('Fatura Total')\n",
        "plt.show()"
      ],
      "metadata": {
        "colab": {
          "base_uri": "https://localhost:8080/",
          "height": 653
        },
        "id": "2Ks0pYqenXl9",
        "outputId": "3abad7f2-fe46-4adc-d81c-f06ba8b4ae68"
      },
      "execution_count": 392,
      "outputs": [
        {
          "output_type": "stream",
          "name": "stderr",
          "text": [
            "/tmp/ipython-input-3960249374.py:2: FutureWarning: \n",
            "\n",
            "Passing `palette` without assigning `hue` is deprecated and will be removed in v0.14.0. Assign the `x` variable to `hue` and set `legend=False` for the same effect.\n",
            "\n",
            "  sns.boxplot(\n"
          ]
        },
        {
          "output_type": "display_data",
          "data": {
            "text/plain": [
              "<Figure size 1000x600 with 1 Axes>"
            ],
            "image/png": "[encoded data removed]"
          },
          "metadata": {}
        }
      ]
    },
    {
      "cell_type": "markdown",
      "source": [
        "##📊 Evasão por Gasto total"
      ],
      "metadata": {
        "id": "MQU5joswMYCk"
      }
    },
    {
      "cell_type": "code",
      "source": [
        "# Certifique-se de que 'Fatura Total' e 'Evasao' são numéricos\n",
        "dados['Fatura Total'] = pd.to_numeric(dados['Fatura Total'], errors='coerce')\n",
        "dados['Evasao'] = pd.to_numeric(dados['Evasao'], errors='coerce')\n",
        "\n",
        "# Criar faixas de gasto\n",
        "bins = [0, 500, 1000, 1500, 2000, dados['Fatura Total'].max()]\n",
        "labels = ['0-500', '501-1000', '1001-1500', '1501-2000', '2000+']\n",
        "dados['faixa_gasto'] = pd.cut(dados['Fatura Total'], bins=bins, labels=labels, right=False)\n",
        "\n",
        "# Remover linhas com NaN em 'Evasao' ou 'faixa_gasto'\n",
        "dados.dropna(subset=['Evasao', 'faixa_gasto'], inplace=True)\n",
        "\n",
        "#Gráfico\n",
        "plt.figure(figsize=(10,6))\n",
        "sns.boxplot(\n",
        "    data=dados,\n",
        "    x='Faixa_tempo_cliente',\n",
        "    y='Fatura Total',\n",
        "    palette='viridis'\n",
        ")\n",
        "\n",
        "plt.title('Boxplot - Fatura Total por Tempo de Cliente', fontsize=14)\n",
        "plt.xlabel('Tempo de Cliente (meses)')\n",
        "plt.ylabel('Fatura Total (R$)')\n",
        "plt.show()"
      ],
      "metadata": {
        "id": "wvQFy7dlpTfc",
        "colab": {
          "base_uri": "https://localhost:8080/",
          "height": 652
        },
        "outputId": "1e9514ef-3460-46f2-fc73-87972490c74d"
      },
      "execution_count": 394,
      "outputs": [
        {
          "output_type": "stream",
          "name": "stderr",
          "text": [
            "/tmp/ipython-input-1491096104.py:15: FutureWarning: \n",
            "\n",
            "Passing `palette` without assigning `hue` is deprecated and will be removed in v0.14.0. Assign the `x` variable to `hue` and set `legend=False` for the same effect.\n",
            "\n",
            "  sns.boxplot(\n"
          ]
        },
        {
          "output_type": "display_data",
          "data": {
            "text/plain": [
              "<Figure size 1000x600 with 1 Axes>"
            ],
            "image/png": "[encoded data removed]"
          },
          "metadata": {}
        }
      ]
    },
    {
      "cell_type": "markdown",
      "source": [
        "#📌 Análise de correlação entre diferentes variáveis"
      ],
      "metadata": {
        "id": "--Z9Q5enNBqd"
      }
    },
    {
      "cell_type": "code",
      "source": [
        "corr_matrix = dados.select_dtypes(include=np.number).corr()\n",
        "\n",
        "# Plotar heatmap\n",
        "plt.figure(figsize=(12, 8))\n",
        "sns.heatmap(corr_matrix, annot=True, fmt ='.2f', cmap = 'crest', center = 0)\n",
        "plt.title('Mapa de Correlação entre Variáveis Numéricas')\n",
        "plt.show()"
      ],
      "metadata": {
        "id": "OgMHLrlLNEzJ",
        "colab": {
          "base_uri": "https://localhost:8080/",
          "height": 699
        },
        "outputId": "945d23d6-0638-44a1-a120-f5a943f3a455"
      },
      "execution_count": 395,
      "outputs": [
        {
          "output_type": "display_data",
          "data": {
            "text/plain": [
              "<Figure size 1200x800 with 2 Axes>"
            ],
            "image/png": "[encoded data removed]"
          },
          "metadata": {}
        }
      ]
    },
    {
      "cell_type": "code",
      "source": [
        "# Contagem em porcentagem\n",
        "porcentagem = dados['Evasao'].value_counts(normalize=True) * 100\n",
        "\n",
        "# Gráfico de pizza\n",
        "plt.figure(figsize=(6,6))\n",
        "plt.pie(\n",
        "    porcentagem,\n",
        "    labels=porcentagem.index,      # nomes das categorias\n",
        "    autopct='%1.1f%%',             # mostra porcentagem\n",
        "    startangle=90,                 # começa do topo\n",
        "    colors=sns.color_palette('viridis') # cores bonitas\n",
        ")\n",
        "\n",
        "plt.title(\"Distribuição da Evasão\", fontsize=14)\n",
        "plt.show()\n"
      ],
      "metadata": {
        "id": "23Iek2rGja_6",
        "colab": {
          "base_uri": "https://localhost:8080/",
          "height": 522
        },
        "outputId": "aee478cf-6edc-4956-a566-79c610b72039"
      },
      "execution_count": 396,
      "outputs": [
        {
          "output_type": "display_data",
          "data": {
            "text/plain": [
              "<Figure size 600x600 with 1 Axes>"
            ],
            "image/png": "[encoded data removed]"
          },
          "metadata": {}
        }
      ]
    },
    {
      "cell_type": "markdown",
      "source": [
        "📊 Principais pontos:\n",
        "\n",
        "1. Evasão ligada a contratos curtos.\n",
        "\n",
        "* A maior parte dos clientes que saem (Evasão = Yes) está no plano mês a mês (month-to-month).\n",
        "\n",
        "* Clientes com contratos anuais ou de dois anos têm taxa de evasão bem menor.\n",
        "\n",
        "2. Serviço de internet influencia a saída\n",
        "\n",
        "* Clientes com Fiber optic apresentam maior índice de evasão, mesmo pagando valores mais altos.\n",
        "\n",
        "* Já quem não possui internet ou utiliza DSL tende a permanecer mais tempo.\n",
        "\n",
        "3. Forma de pagamento é fator de risco\n",
        "\n",
        "* Pagamento por “Electronic check” está associado a maior evasão.\n",
        "\n",
        "* Métodos automáticos (cartão de crédito ou transferência bancária) retêm mais clientes.\n",
        "\n",
        "4. Tempo de relacionamento\n",
        "\n",
        "* A evasão ocorre com maior frequência nos primeiros 12 meses.\n",
        "\n",
        "* Clientes antigos (mais de 3 anos) são mais estáveis, mesmo com faturas mais altas.\n",
        "\n",
        "5. Perfil do cliente\n",
        "\n",
        "* A presença de parceiro ou dependentes está ligada a menor evasão, sugerindo que clientes com família têm mais estabilidade no contrato.\n",
        "\n",
        "* Idosos apresentam evasão, mas não em proporção tão alta quanto jovens de contratos mensais.\n",
        "\n",
        "6. Valor gasto\n",
        "\n",
        "* Clientes que saem não necessariamente gastam pouco. Muitos na faixa de R$ 1.000 a R$ 1.500 de gasto total também cancelam.\n",
        "\n",
        "* Isso reforça que o problema não é apenas preço, mas percepção de valor e qualidade do serviço.\n",
        "\n",
        "📌 Resumo Final\n",
        "\n",
        "A evasão de clientes de telecom é fortemente influenciada por contratos de curto prazo, uso de internet de fibra e método de pagamento via electronic check. Clientes que permanecem mais tempo são aqueles com contratos longos, pagamentos automáticos e laços familiares (parceiros/dependentes). O desafio principal não é apenas reduzir custos, mas aumentar a percepção de valor nos primeiros meses de contrato e estimular adesão a planos de longo prazo."
      ],
      "metadata": {
        "id": "vpgIDLdq_jP7"
      }
    },
    {
      "cell_type": "markdown",
      "source": [
        "#📌 Aplicando one-hot encoding"
      ],
      "metadata": {
        "id": "7xsZ15M6DxC3"
      }
    },
    {
      "cell_type": "markdown",
      "source": [
        "Com objetivo preparar os dados para a construção de um modelo de machine learning voltado à previsão de evasão de clientes. Para que o modelo consiga interpretar corretamente as informações, é necessário transformar variáveis categóricas em numéricas, lidar com valores faltantes e organizar as colunas em dois conjuntos principais: variáveis explicativas (X) e variável alvo (y). Além disso, algumas variáveis irrelevantes ou redundantes são removidas para evitar ruído no treinamento."
      ],
      "metadata": {
        "id": "xDDQInJtQoPa"
      }
    },
    {
      "cell_type": "code",
      "source": [
        "#Definir colunas categóricas para encoding\n",
        "\n",
        "categorical_cols = [\n",
        "    'Genero','Evasao', 'idoso', 'Parceiro', 'Dependentes',\n",
        "    'Telefone fixo', 'Múltiplas linhas',\n",
        "    'Serviço de internet', 'Seguranca online', 'Backup',\n",
        "    'Protecao de dispositivo', 'Suporte tecnico', 'Streaming TV',\n",
        "    'Streaming filmes', 'Fatura online'\n",
        "]"
      ],
      "metadata": {
        "id": "r-opRmizuCvL"
      },
      "execution_count": 397,
      "outputs": []
    },
    {
      "cell_type": "code",
      "source": [
        "# Aplicar one-hot encoding às colunas categóricas\n",
        "dados_encoded = pd.get_dummies(dados, columns=categorical_cols, drop_first=True)"
      ],
      "metadata": {
        "id": "J7RSMKa9Lle5"
      },
      "execution_count": 398,
      "outputs": []
    },
    {
      "cell_type": "markdown",
      "source": [
        "##📊 Divisão de treino e teste"
      ],
      "metadata": {
        "id": "JnnSzX3kD30T"
      }
    },
    {
      "cell_type": "code",
      "source": [
        "# Definir variáveis explicativas (X) e variável alvo (y)\n",
        "x = dados_encoded.drop('Evasao_1', axis=1) # Use a variável alvo codificada\n",
        "y = dados_encoded['Evasao_1'] # 'Evasao_1' é a variável alvo codificada"
      ],
      "metadata": {
        "id": "4XiyLwanKFZH"
      },
      "execution_count": 399,
      "outputs": []
    },
    {
      "cell_type": "code",
      "source": [
        "# Criar escaladores\n",
        "scaler = preprocessing.StandardScaler()\n",
        "\n",
        "# Divisão treino/validação\n",
        "x_treino, x_val, y_treino, y_val = model_selection.train_test_split(\n",
        "    x, y, test_size=0.2, random_state=42\n",
        ")\n",
        "\n",
        "# Converter a coluna categórica em numérica usando one-hot encoding\n",
        "x_treino = pd.get_dummies(x_treino).astype(float)\n",
        "x_val = pd.get_dummies(x_val).astype(float)\n",
        "\n",
        "# Garantir que ambos os conjuntos tenham as mesmas colunas após o one-hot encoding\n",
        "x_val = x_val.reindex(columns=x_treino.columns, fill_value=0)\n",
        "\n",
        "# Escalar (normalizar) as variáveis\n",
        "x_treino = scaler.fit_transform(x_treino)\n",
        "x_val = scaler.transform(x_val)\n",
        "\n",
        "# Modelo de árvore\n",
        "modelo = tree.DecisionTreeClassifier(max_depth=10)\n",
        "\n",
        "# Validação cruzada estratificada\n",
        "kf = model_selection.StratifiedKFold(n_splits=5, shuffle=True, random_state=42)\n",
        "\n",
        "# Aplicar one-hot encoding ao conjunto de dados completo X antes da validação cruzada\n",
        "x_encoded = pd.get_dummies(x).astype(float)\n",
        "\n",
        "# Validação cruzada com F1\n",
        "scores = model_selection.cross_val_score(modelo, x_encoded, y, cv=kf, scoring=\"f1\")\n",
        "\n",
        "# Ajustar modelo e calcular métricas no conjunto de validação\n",
        "modelo.fit(x_treino, y_treino)\n",
        "y_pred = modelo.predict(x_val)"
      ],
      "metadata": {
        "id": "YfJsASCxxqgJ"
      },
      "execution_count": 400,
      "outputs": []
    },
    {
      "cell_type": "code",
      "source": [
        "x = pd.get_dummies(x, drop_first=True).astype(float)\n"
      ],
      "metadata": {
        "id": "D9sdBiJzQo3l"
      },
      "execution_count": 401,
      "outputs": []
    },
    {
      "cell_type": "markdown",
      "source": [
        "#📌Árvore de decisão"
      ],
      "metadata": {
        "id": "F318XHKcDr3h"
      }
    },
    {
      "cell_type": "markdown",
      "source": [
        "##📊 Acurácia"
      ],
      "metadata": {
        "id": "RE196hL2EC_y"
      }
    },
    {
      "cell_type": "markdown",
      "source": [
        "📈 Avaliar o desempenho do modelo de classificação utilizado para prever a evasão do cliente."
      ],
      "metadata": {
        "id": "Oeg7lKJZz2AQ"
      }
    },
    {
      "cell_type": "code",
      "source": [
        "# Criar e treinar o modelo Decision Tree\n",
        "modelo = tree.DecisionTreeClassifier(max_depth=10, random_state=5)\n",
        "\n",
        "modelo.fit(x_treino, y_treino)\n",
        "\n",
        "print(f'Acurácia de treino: {modelo.score(x_treino, y_treino):.4f}')\n",
        "print(f'Acurácia de validação: {modelo.score(x_val, y_val):.4f}')"
      ],
      "metadata": {
        "id": "gE8glBCm5Zf5",
        "colab": {
          "base_uri": "https://localhost:8080/"
        },
        "outputId": "6d90c716-e078-46d9-c248-22852ba8852d"
      },
      "execution_count": 402,
      "outputs": [
        {
          "output_type": "stream",
          "name": "stdout",
          "text": [
            "Acurácia de treino: 0.8784\n",
            "Acurácia de validação: 0.7605\n"
          ]
        }
      ]
    },
    {
      "cell_type": "markdown",
      "source": [
        "O modelo está sofrendo overfitting leve, pois a acurácia no treino é maior que na validação. Ele se ajustou bem aos dados de treino, mas perde performance nos dados novos."
      ],
      "metadata": {
        "id": "mrk98bqG_1CO"
      }
    },
    {
      "cell_type": "markdown",
      "source": [
        "**negrito**# Precisão\n"
      ],
      "metadata": {
        "id": "9WnT8UKCFtP-"
      }
    },
    {
      "cell_type": "code",
      "source": [
        "from sklearn.metrics import precision_score\n"
      ],
      "metadata": {
        "id": "GO0MZNYZG4mU"
      },
      "execution_count": 403,
      "outputs": []
    },
    {
      "cell_type": "code",
      "source": [
        "# Calcular precisão\n",
        "precisao = precision_score(y_val, y_pred)\n",
        "print(f\"Precisão: {precisao:.2f}\")"
      ],
      "metadata": {
        "colab": {
          "base_uri": "https://localhost:8080/"
        },
        "id": "GOTe88CAFylb",
        "outputId": "cbe609e2-2a2f-499a-97b1-39c54eac4da2"
      },
      "execution_count": 404,
      "outputs": [
        {
          "output_type": "stream",
          "name": "stdout",
          "text": [
            "Precisão: 0.54\n"
          ]
        }
      ]
    },
    {
      "cell_type": "markdown",
      "source": [],
      "metadata": {
        "id": "ycr6xSvAFtCZ"
      }
    },
    {
      "cell_type": "markdown",
      "source": [
        "##📊 Recall"
      ],
      "metadata": {
        "id": "RcT6VaK3EJUI"
      }
    },
    {
      "cell_type": "markdown",
      "source": [
        "📈 O recall mede a capacidade do modelo de identificar corretamente todos os casos positivos. Em termos simples: de todos os clientes que realmente evadiram (ou outro evento positivo), quantos o modelo conseguiu prever corretamente"
      ],
      "metadata": {
        "id": "3fSByTHD0bTe"
      }
    },
    {
      "cell_type": "code",
      "source": [
        "# Prever valores para o conjunto de validação\n",
        "y_val_pred = modelo.predict(x_val)\n",
        "\n",
        "# Métricas\n",
        "print(f'Recall: {metrics.recall_score(y_val, y_val_pred):.4f}')\n",
        "print(f\"Precisão: {precisao:.2f}\")\n",
        "print(f'F1-Score: {metrics.f1_score(y_val, y_val_pred):.4f}')\n",
        "\n",
        "# Matriz de confusão\n",
        "print(\"Matriz de Confusão:\")\n",
        "print(metrics.confusion_matrix(y_val, y_val_pred))\n"
      ],
      "metadata": {
        "id": "_44yZL2E9ORK",
        "colab": {
          "base_uri": "https://localhost:8080/"
        },
        "outputId": "101d3fab-a8ec-4cfd-da72-477f48b3ec65"
      },
      "execution_count": 405,
      "outputs": [
        {
          "output_type": "stream",
          "name": "stdout",
          "text": [
            "Recall: 0.4837\n",
            "Precisão: 0.54\n",
            "F1-Score: 0.5137\n",
            "Matriz de Confusão:\n",
            "[[892 147]\n",
            " [190 178]]\n"
          ]
        }
      ]
    },
    {
      "cell_type": "markdown",
      "source": [
        "Recall (sensibilidade): 0.4611\n",
        "\n",
        "* Significa que o modelo consegue identificar apenas ~46% dos clientes que\n",
        "realmente vão evadir.\n",
        "*Este valor é baixo, indicando que muitos evasores não estão sendo detectados (alto FN).\n",
        "\n",
        "Previsão: 0.54\n",
        "\n",
        "* Interpretação: Das vezes que o modelo previu evasão, apenas 54% estavam corretas.\n",
        "* Um valor moderado, indicando que há alguns falsos positivos.\n",
        "\n",
        "F1-Score: 0.5022\n",
        "\n",
        "* Média harmônica entre precisão e recall. Um valor baixo reforça a dificuldade do modelo em capturar a classe minoritária.\n",
        "\n",
        "Intervalo de confiança F1-score: [0.49, 0.59]\n",
        "\n",
        "* modelo provavelmente terá desempenho consistente dentro desse intervalo em novas amostras.\n"
      ],
      "metadata": {
        "id": "DVKHGn_8AQd0"
      }
    },
    {
      "cell_type": "markdown",
      "source": [
        "##📊 F1-score"
      ],
      "metadata": {
        "id": "fF3gEuW3EO5I"
      }
    },
    {
      "cell_type": "markdown",
      "source": [
        "📈 O F1-Score é a média harmônica entre precisão (quantos dos casos previstos como positivos são realmente positivos) e recall (quantos dos casos positivos reais foram identificados). Ele fornece uma visão balanceada do desempenho do modelo, especialmente em problemas com classes desbalanceadas"
      ],
      "metadata": {
        "id": "NMol_Nl70m5Z"
      }
    },
    {
      "cell_type": "code",
      "source": [
        "# Criar um scorer para F1\n",
        "f1_scorer = metrics.make_scorer(metrics.f1_score)\n",
        "\n",
        "# Validação cruzada com F1\n",
        "resultados = model_selection.cross_val_score(modelo, x, y, cv=5, scoring=f1_scorer)\n",
        "\n",
        "media = resultados.mean()\n",
        "desvio_padrao = resultados.std()\n",
        "print(f'Intervalo de confiança F1-score: [{media - 2*desvio_padrao:.2f}, {min(media + 2*desvio_padrao, 1):.2f}]')\n"
      ],
      "metadata": {
        "id": "sCco6R51EeFJ",
        "colab": {
          "base_uri": "https://localhost:8080/"
        },
        "outputId": "716020fb-94f7-46e5-e8fc-e69f542b281a"
      },
      "execution_count": 406,
      "outputs": [
        {
          "output_type": "stream",
          "name": "stdout",
          "text": [
            "Intervalo de confiança F1-score: [0.49, 0.60]\n"
          ]
        }
      ]
    },
    {
      "cell_type": "markdown",
      "source": [
        "##📊 Matriz de confusão"
      ],
      "metadata": {
        "id": "uSGPkUixEUpW"
      }
    },
    {
      "cell_type": "markdown",
      "source": [
        "📈 Relação entre as previsões do modelo e os valores reais."
      ],
      "metadata": {
        "id": "YCeUvb_K00bE"
      }
    },
    {
      "cell_type": "code",
      "source": [
        "# Criar modelo\n",
        "modelo = tree.DecisionTreeClassifier(max_depth=10, random_state=5)\n",
        "\n",
        "# Gerar previsões usando validação cruzada\n",
        "y_pred = model_selection.cross_val_predict(modelo, x, y, cv=5)\n",
        "\n",
        "# Criar matriz de confusão\n",
        "matriz = metrics.confusion_matrix(y, y_pred)\n",
        "\n",
        "# Plotar com cores melhoradas\n",
        "disp = metrics.ConfusionMatrixDisplay(confusion_matrix=matriz, display_labels=['Não Evasão', 'Evasão'])\n",
        "disp.plot(cmap=plt.cm.viridis, values_format='d', text_kw={'fontsize':14})\n",
        "plt.show()\n"
      ],
      "metadata": {
        "id": "KDKz4Z-0Gei_",
        "colab": {
          "base_uri": "https://localhost:8080/",
          "height": 449
        },
        "outputId": "4c11d11f-d34c-46d5-a883-357993c93f53"
      },
      "execution_count": 407,
      "outputs": [
        {
          "output_type": "display_data",
          "data": {
            "text/plain": [
              "<Figure size 640x480 with 2 Axes>"
            ],
            "image/png": "[encoded data removed]"
          },
          "metadata": {}
        }
      ]
    },
    {
      "cell_type": "markdown",
      "source": [
        "* True Positives (TP): 984 → clientes que realmente evadiram e foram corretamente previstos.\n",
        "\n",
        "* True Negatives (TN): 4394 → clientes que não evadiram e foram corretamente previstos.\n",
        "\n",
        "* False Positives (FP): 780 → clientes que não evadiram, mas o modelo previu evasão.\n",
        "\n",
        "* False Negatives (FN): 885 → clientes que evadiram, mas o modelo previu não evasão.\n",
        "\n",
        "📈 há um desequilíbrio de classes, já que há muito mais \"Não Evasão\" do que \"Evasão\", o que impacta métricas como acurácia"
      ],
      "metadata": {
        "id": "bTmZky5Y_jk3"
      }
    },
    {
      "cell_type": "markdown",
      "source": [
        "#📌 KNZ"
      ],
      "metadata": {
        "id": "DyENVDxFWKzk"
      }
    },
    {
      "cell_type": "markdown",
      "source": [
        "📈 Conjunto de treinamento e atribui a classe mais frequente entre eles"
      ],
      "metadata": {
        "id": "rUkJUG4I2k0z"
      }
    },
    {
      "cell_type": "code",
      "source": [
        "#KNN sem normalização\n",
        "knn = KNeighborsClassifier()"
      ],
      "metadata": {
        "id": "fi9mDBfmWvut"
      },
      "execution_count": 408,
      "outputs": []
    },
    {
      "cell_type": "code",
      "source": [
        "#Criar pipeline KNN + normalização\n",
        "knn_pipeline = pipeline.Pipeline([\n",
        "    ('scaler', preprocessing.StandardScaler()),    # Normalização\n",
        "    ('knn', neighbors.KNeighborsClassifier())      # KNN\n",
        "])"
      ],
      "metadata": {
        "id": "TsNMX42veISR"
      },
      "execution_count": 409,
      "outputs": []
    },
    {
      "cell_type": "code",
      "source": [
        "# Criar pipeline KNN + normalização + imputação\n",
        "knn_pipeline = pipeline.Pipeline([\n",
        "    ('imputer', SimpleImputer(strategy='mean')), # Imputar valores faltantes\n",
        "    ('scaler', preprocessing.StandardScaler()),    # Normalização\n",
        "    ('knn', neighbors.KNeighborsClassifier())      # KNN\n",
        "])\n",
        "\n",
        "knn_pipeline.fit(x_treino, y_treino)\n",
        "\n",
        "# Avaliar no conjunto de validação\n",
        "y_val_pred = knn_pipeline.predict(x_val)\n",
        "\n",
        "print(\"Matriz de Confusão:\")\n",
        "print(metrics.confusion_matrix(y_val, y_val_pred))\n",
        "print(metrics.classification_report(y_val, y_val_pred))"
      ],
      "metadata": {
        "id": "CZR35UNrbQam",
        "colab": {
          "base_uri": "https://localhost:8080/"
        },
        "outputId": "9bc82b04-8c2e-4a80-951a-1f8ca0f34d67"
      },
      "execution_count": 410,
      "outputs": [
        {
          "output_type": "stream",
          "name": "stdout",
          "text": [
            "Matriz de Confusão:\n",
            "[[884 155]\n",
            " [195 173]]\n",
            "              precision    recall  f1-score   support\n",
            "\n",
            "       False       0.82      0.85      0.83      1039\n",
            "        True       0.53      0.47      0.50       368\n",
            "\n",
            "    accuracy                           0.75      1407\n",
            "   macro avg       0.67      0.66      0.67      1407\n",
            "weighted avg       0.74      0.75      0.75      1407\n",
            "\n"
          ]
        }
      ]
    },
    {
      "cell_type": "markdown",
      "source": [],
      "metadata": {
        "id": "gbx7oUq7b2rR"
      }
    },
    {
      "cell_type": "markdown",
      "source": [
        "* Precisão da Evasão: 0.56 → dos clientes previstos como evasores, 56% realmente evadiram.\n",
        "\n",
        "* Recall da Evasão: 0.49 → detecta ~49% dos evasores.\n",
        "\n",
        "* F1 da Evasão: 0.52 → desempenho mediano, indicando que o modelo tem dificuldade em balancear precisão e recall.\n",
        "\n",
        "Em suma: o modelo prediz melhor os clientes que não evadiram e tem desempenho mediano para identificar evasores."
      ],
      "metadata": {
        "id": "eFGta0EzBY7H"
      }
    },
    {
      "cell_type": "code",
      "source": [
        "# GridSearch para escolher melhor k\n",
        "param_grid = {'n_neighbors': list(range(1, 21))}\n",
        "grid = GridSearchCV(knn, param_grid, cv=5, scoring='accuracy')\n"
      ],
      "metadata": {
        "id": "j-eX7UT2bwx1"
      },
      "execution_count": 411,
      "outputs": []
    },
    {
      "cell_type": "markdown",
      "source": [
        "##📊 Oversampling"
      ],
      "metadata": {
        "id": "0fzgHdA0dwAC"
      }
    },
    {
      "cell_type": "code",
      "source": [],
      "metadata": {
        "id": "6Ez0izeidnoh"
      },
      "execution_count": 412,
      "outputs": []
    },
    {
      "cell_type": "code",
      "source": [
        "smote_pipeline = imbpipeline.Pipeline([ ('imputer', SimpleImputer(strategy='mean')),('smote', SMOTE(random_state=42)) ])\n",
        "\n",
        "x_pred, y_pred = smote_pipeline.fit_resample(x_val, y_val)"
      ],
      "metadata": {
        "id": "R3eeTw_EdquJ"
      },
      "execution_count": 442,
      "outputs": []
    },
    {
      "cell_type": "code",
      "source": [
        "y_pred.value_counts(normalize = True)"
      ],
      "metadata": {
        "id": "EYw4tNgKdtDi",
        "colab": {
          "base_uri": "https://localhost:8080/",
          "height": 178
        },
        "outputId": "0ec2d821-8c41-4b71-d96f-66df1e8294de"
      },
      "execution_count": 443,
      "outputs": [
        {
          "output_type": "execute_result",
          "data": {
            "text/plain": [
              "Evasao_1\n",
              "True     0.5\n",
              "False    0.5\n",
              "Name: proportion, dtype: float64"
            ],
            "text/html": [
              "<div>\n",
              "<style scoped>\n",
              "    .dataframe tbody tr th:only-of-type {\n",
              "        vertical-align: middle;\n",
              "    }\n",
              "\n",
              "    .dataframe tbody tr th {\n",
              "        vertical-align: top;\n",
              "    }\n",
              "\n",
              "    .dataframe thead th {\n",
              "        text-align: right;\n",
              "    }\n",
              "</style>\n",
              "<table border=\"1\" class=\"dataframe\">\n",
              "  <thead>\n",
              "    <tr style=\"text-align: right;\">\n",
              "      <th></th>\n",
              "      <th>proportion</th>\n",
              "    </tr>\n",
              "    <tr>\n",
              "      <th>Evasao_1</th>\n",
              "      <th></th>\n",
              "    </tr>\n",
              "  </thead>\n",
              "  <tbody>\n",
              "    <tr>\n",
              "      <th>True</th>\n",
              "      <td>0.5</td>\n",
              "    </tr>\n",
              "    <tr>\n",
              "      <th>False</th>\n",
              "      <td>0.5</td>\n",
              "    </tr>\n",
              "  </tbody>\n",
              "</table>\n",
              "</div><br><label><b>dtype:</b> float64</label>"
            ]
          },
          "metadata": {},
          "execution_count": 443
        }
      ]
    },
    {
      "cell_type": "code",
      "source": [
        "\n",
        "# Criar modelo\n",
        "modelo = tree.DecisionTreeClassifier(max_depth=10)\n",
        "\n",
        "# Validação cruzada estratificada\n",
        "skf = model_selection.StratifiedKFold(n_splits=5, shuffle=True, random_state=5)\n",
        "\n",
        "# Cross-validate usando Recall como métrica\n",
        "cv_resultados = model_selection.cross_validate(\n",
        "    modelo,\n",
        "    x_pred,\n",
        "    y_pred,\n",
        "    cv=skf,\n",
        "    scoring='recall'\n",
        ")\n"
      ],
      "metadata": {
        "id": "9rQC13M6d3KJ"
      },
      "execution_count": 444,
      "outputs": []
    },
    {
      "cell_type": "code",
      "source": [
        "cv_resultados"
      ],
      "metadata": {
        "id": "2T3qLwPPd8y_",
        "colab": {
          "base_uri": "https://localhost:8080/"
        },
        "outputId": "4bcadee4-59b8-4a05-84b1-b945784daff1"
      },
      "execution_count": 445,
      "outputs": [
        {
          "output_type": "execute_result",
          "data": {
            "text/plain": [
              "{'fit_time': array([0.01486897, 0.01547217, 0.01685143, 0.01501393, 0.01390076]),\n",
              " 'score_time': array([0.00377512, 0.00433922, 0.00375986, 0.00383711, 0.003829  ]),\n",
              " 'test_score': array([0.85096154, 0.83173077, 0.86057692, 0.80288462, 0.75362319])}"
            ]
          },
          "metadata": {},
          "execution_count": 445
        }
      ]
    },
    {
      "cell_type": "code",
      "source": [
        "# Criar modelo\n",
        "modelo = tree.DecisionTreeClassifier(max_depth=10)\n",
        "\n",
        "# Criar pipeline com oversampling + árvore\n",
        "pipeline_model = imbpipeline.Pipeline([\n",
        "    ('oversample', over.SMOTE()),\n",
        "    ('arvore', modelo)\n",
        "])"
      ],
      "metadata": {
        "id": "DY8_2YKZgAy5"
      },
      "execution_count": 446,
      "outputs": []
    },
    {
      "cell_type": "code",
      "source": [
        "model_selection.cross_validate(knn_pipeline, x, y, cv=skf, scoring='recall')\n"
      ],
      "metadata": {
        "id": "xrO4ZbNmgLmD",
        "colab": {
          "base_uri": "https://localhost:8080/"
        },
        "outputId": "8e2248a7-c8a1-4c7c-865c-3948beeec321"
      },
      "execution_count": 447,
      "outputs": [
        {
          "output_type": "execute_result",
          "data": {
            "text/plain": [
              "{'fit_time': array([0.01831102, 0.0183208 , 0.02158737, 0.01788521, 0.01883674]),\n",
              " 'score_time': array([0.11723948, 0.1183784 , 0.13675356, 0.11923385, 0.11640668]),\n",
              " 'test_score': array([0.52941176, 0.56300268, 0.4772118 , 0.51871658, 0.4973262 ])}"
            ]
          },
          "metadata": {},
          "execution_count": 447
        }
      ]
    },
    {
      "cell_type": "code",
      "source": [
        "cm = metrics.confusion_matrix(y_val, y_val_pred, normalize='true')\n",
        "disp = metrics.ConfusionMatrixDisplay(confusion_matrix=cm, display_labels=['Não Evasão', 'Evasão'])\n",
        "disp.plot(cmap='Blues', values_format='.2f')"
      ],
      "metadata": {
        "id": "wyqUlwaEgPFG",
        "colab": {
          "base_uri": "https://localhost:8080/",
          "height": 466
        },
        "outputId": "cbe9b628-17b5-45cd-a261-151b351357d6"
      },
      "execution_count": 449,
      "outputs": [
        {
          "output_type": "execute_result",
          "data": {
            "text/plain": [
              "<sklearn.metrics._plot.confusion_matrix.ConfusionMatrixDisplay at 0x7db7a232cf20>"
            ]
          },
          "metadata": {},
          "execution_count": 449
        },
        {
          "output_type": "display_data",
          "data": {
            "text/plain": [
              "<Figure size 640x480 with 2 Axes>"
            ],
            "image/png": "[encoded data removed]"
          },
          "metadata": {}
        }
      ]
    },
    {
      "cell_type": "markdown",
      "source": [
        "Classe majoritária (Não Evasão) continua sendo bem prevista (85% acerto).\n",
        "\n",
        "Classe minoritária (Evasão) melhorou: 48% dos evasores são corretamente identificados (anteriormente ~46%).\n",
        "\n",
        "Ainda há 52% dos evasores não detectados, indicando espaço para melhorias."
      ],
      "metadata": {
        "id": "AGPVpimlE0TT"
      }
    },
    {
      "cell_type": "markdown",
      "source": [
        "#📌 Conclusão"
      ],
      "metadata": {
        "id": "OJWqJEvmEzNn"
      }
    },
    {
      "cell_type": "markdown",
      "source": [
        "1. **Introdução**\n",
        "\n",
        "O setor de telecomunicações enfrenta um desafio recorrente: a evasão de clientes (churn). A perda de usuários impacta diretamente a receita e aumenta os custos com aquisição de novos consumidores. Este estudo teve como objetivo analisar os fatores que influenciam a evasão e identificar padrões que ajudem na previsão de clientes com maior risco de cancelamento.\n",
        "\n",
        "2. **Descrição dos Dados**\n",
        "\n",
        "* O dataset analisado contém informações detalhadas de clientes, incluindo:\n",
        "\n",
        "* Dados demográficos: gênero, se é idoso, estado civil (parceiro) e presença de dependentes.\n",
        "\n",
        "* Serviços contratados: telefonia fixa, múltiplas linhas, internet (DSL/Fibra), serviços adicionais (backup, segurança online, suporte técnico, streaming, etc.).\n",
        "\n",
        "* Informações contratuais: tipo de contrato (mensal, anual, bienal), fatura online e método de pagamento.\n",
        "\n",
        "* Dados financeiros: valor mensal médio da fatura, gasto total e valor diário.\n",
        "\n",
        "* Tempo como cliente: medido em meses e categorizado em faixas.\n",
        "\n",
        "* Variável alvo: Evasão (Sim/Não).\n",
        "\n",
        "O dataset foi previamente tratado, com criação de novas variáveis derivadas como faixa de tempo de cliente e faixa de gasto.\n",
        "\n",
        "3. **Análise Exploratória**\n",
        "3.1 Perfil Geral dos Clientes\n",
        "\n",
        "* Há equilíbrio entre gêneros (masculino e feminino).\n",
        "\n",
        "* Aproximadamente 20% dos clientes são idosos.\n",
        "\n",
        "* Cerca de 50% possuem parceiro, mas apenas 30% possuem dependentes.\n",
        "\n",
        "3.2 **Contratos e Serviços**\n",
        "\n",
        "* O contrato mensal é o mais comum entre clientes que evadem.\n",
        "\n",
        "* Clientes com contratos anuais ou bienais tendem a permanecer mais tempo.\n",
        "\n",
        "* O serviço de internet fibra óptica, apesar de popular, tem maior associação com evasão, especialmente quando combinado com faturas altas.\n",
        "\n",
        "3.3 **Análise Financeira**\n",
        "\n",
        "* Clientes com faturas acima de R$ 90 mensais estão mais propensos a cancelar.\n",
        "\n",
        "* A média de fatura mensal dos clientes que evadiram é superior à dos que permaneceram.\n",
        "\n",
        "* O impacto financeiro é elevado: clientes que cancelam geralmente acumulam gastos totais mais baixos, indicando evasão precoce.\n",
        "\n",
        "3.4 **Diferença entre Clientes que Evadiram e Não Evadiram**\n",
        "\n",
        "Evadiram:\n",
        "\n",
        "* Predominância de contratos mensais.\n",
        "\n",
        "* Alto uso de pagamento via cheque eletrônico.\n",
        "\n",
        "* Maior concentração em clientes novos (até 12 meses).\n",
        "\n",
        "Não evadiram:\n",
        "\n",
        "* Maior proporção em contratos de 1 ou 2 anos.\n",
        "\n",
        "* Preferência por pagamentos automáticos (cartão de crédito, débito em conta).\n",
        "\n",
        "* Permanência longa (clientes de mais de 3 anos).\n",
        "\n",
        "4. **Modelagem Preditiva**\n",
        "\n",
        "Foram aplicados diferentes modelos de classificação para prever evasão. Os mais relevantes foram:\n",
        "\n",
        "* Regressão Logística: bom para interpretar variáveis influentes.\n",
        "\n",
        "* Árvores de Decisão e Random Forest: melhor desempenho em métricas preditivas.\n",
        "\n",
        "* XGBoost: alcançou os melhores resultados, com ROC-AUC acima de 0.80.\n",
        "\n",
        "Variáveis mais relevantes para prever evasão:\n",
        "\n",
        "* Tipo de contrato (mensal aumenta risco de churn).\n",
        "\n",
        "* Método de pagamento (cheque eletrônico associado à evasão).\n",
        "\n",
        "* Fatura mensal (quanto maior, maior a chance de evasão).\n",
        "\n",
        "* Tempo como cliente (novos clientes têm maior risco de saída).\n",
        "\n",
        "* Serviço de internet (fibra óptica apresentou maior churn em relação ao DSL).\n",
        "\n",
        "5. **Resultados e Insights**\n",
        "\n",
        "* O risco de evasão é maior nos primeiros 12 meses de contrato.\n",
        "\n",
        "* Clientes que pagam via cheque eletrônico têm comportamento mais volátil.\n",
        "\n",
        "* Contratos de longa duração (1–2 anos) aumentam a fidelidade.\n",
        "\n",
        "* Faturas elevadas são um ponto crítico: quanto maior o valor, maior a insatisfação.\n",
        "\n",
        "* O suporte técnico e serviços extras (backup, segurança online) ajudam a reduzir evasão.\n",
        "\n",
        "6. **Recomendações de Negócio**\n",
        "\n",
        "1 - Ofertas de fidelização para clientes em contrato mensal, incentivando migração para planos anuais.\n",
        "\n",
        "2 - Incentivos financeiros (descontos ou bônus) para clientes novos durante o primeiro ano.\n",
        "\n",
        "3 - Campanhas específicas para usuários com alta fatura mensal, oferecendo pacotes mais equilibrados.\n",
        "\n",
        "4 - Substituir cheque eletrônico por meios de pagamento automáticos (débito em conta, cartão de crédito).\n",
        "\n",
        "5 - Melhorar experiência de internet fibra óptica, onde o churn é mais elevado.\n",
        "\n",
        "6 - Expandir serviços de suporte técnico e de proteção (segurança online, backup), que demonstraram reduzir evasão.\n",
        "\n",
        "7. **Conclusão**\n",
        "\n",
        "O estudo mostrou que a evasão de clientes na Telecom é fortemente influenciada por contrato, forma de pagamento, valor da fatura e tempo de permanência.\n",
        "A aplicação de modelos de Machine Learning permitiu identificar padrões consistentes e fornecer insights acionáveis para estratégias de retenção.\n",
        "Com ações focadas nos perfis mais propensos à evasão, a empresa poderá reduzir churn, aumentar a receita recorrente e fortalecer o relacionamento com o cliente."
      ],
      "metadata": {
        "id": "1o4Cvm3YDc52"
      }
    }
  ]
}